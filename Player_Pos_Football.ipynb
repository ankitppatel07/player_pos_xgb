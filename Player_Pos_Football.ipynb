{
 "cells": [
  {
   "cell_type": "markdown",
   "metadata": {
    "_uuid": "7a79cf19f84f714b31987fd7ff7d0ab1a6a89ad7",
    "colab_type": "text",
    "id": "X6e1WWmeC4lM"
   },
   "source": [
    "***\n",
    "# Final Project Name: \n",
    "## Finding best suited playing position on the field based on the football player's attributes."
   ]
  },
  {
   "cell_type": "markdown",
   "metadata": {
    "_uuid": "f9b92a30d29e29f1a36fe16d2a1f8251fbd0e53c",
    "colab_type": "text",
    "id": "DDOtyaT7aCkG"
   },
   "source": [
    "![alt text](https://www.trueachievements.com/customimages/086283.jpg)"
   ]
  },
  {
   "cell_type": "markdown",
   "metadata": {},
   "source": [
    "***\n",
    "## Step 1: Import the dataset and necessary packages"
   ]
  },
  {
   "cell_type": "markdown",
   "metadata": {
    "_uuid": "39be53f6e6c6d9e4d1851f03edd8ecfe73c60b52",
    "colab_type": "text",
    "id": "8sAtFrGMQ5-H"
   },
   "source": [
    "***\n",
    "### Import packages:  "
   ]
  },
  {
   "cell_type": "code",
   "execution_count": 1,
   "metadata": {
    "_uuid": "1064f7e4b3cd139359c8fffbcbc3a6eb754ab6f6",
    "colab": {},
    "colab_type": "code",
    "id": "FFYW2vG-pyvd"
   },
   "outputs": [],
   "source": [
    "import pandas as pd\n",
    "import numpy as np\n",
    "import random as rnd\n",
    "import seaborn as sns\n",
    "import matplotlib.pyplot as plt\n",
    "import warnings\n",
    "warnings.filterwarnings('ignore')\n",
    "from sklearn import preprocessing\n",
    "from sklearn.model_selection import train_test_split\n",
    "from sklearn.model_selection import cross_validate\n",
    "from sklearn.metrics import recall_score"
   ]
  },
  {
   "cell_type": "markdown",
   "metadata": {
    "_uuid": "b6b8c0c4495f9c69df0dd2ed5e3ceb49f3487b10",
    "colab_type": "text",
    "id": "2u8NAXEQRFVW"
   },
   "source": [
    "***\n",
    "### Overview of the Dataset used:"
   ]
  },
  {
   "cell_type": "code",
   "execution_count": 2,
   "metadata": {
    "_uuid": "56b5d0877ecb2c8ad973f2d5de23987b18e6af2f",
    "colab": {
     "base_uri": "https://localhost:8080/",
     "height": 355
    },
    "colab_type": "code",
    "id": "k5iOnpLExXpX",
    "outputId": "ba61fa9f-3404-401b-b0d2-5faa89700511"
   },
   "outputs": [
    {
     "data": {
      "text/html": [
       "<div>\n",
       "<style scoped>\n",
       "    .dataframe tbody tr th:only-of-type {\n",
       "        vertical-align: middle;\n",
       "    }\n",
       "\n",
       "    .dataframe tbody tr th {\n",
       "        vertical-align: top;\n",
       "    }\n",
       "\n",
       "    .dataframe thead th {\n",
       "        text-align: right;\n",
       "    }\n",
       "</style>\n",
       "<table border=\"1\" class=\"dataframe\">\n",
       "  <thead>\n",
       "    <tr style=\"text-align: right;\">\n",
       "      <th></th>\n",
       "      <th>Unnamed: 0</th>\n",
       "      <th>ID</th>\n",
       "      <th>Name</th>\n",
       "      <th>Age</th>\n",
       "      <th>Photo</th>\n",
       "      <th>Nationality</th>\n",
       "      <th>Flag</th>\n",
       "      <th>Overall</th>\n",
       "      <th>Potential</th>\n",
       "      <th>Club</th>\n",
       "      <th>...</th>\n",
       "      <th>Composure</th>\n",
       "      <th>Marking</th>\n",
       "      <th>StandingTackle</th>\n",
       "      <th>SlidingTackle</th>\n",
       "      <th>GKDiving</th>\n",
       "      <th>GKHandling</th>\n",
       "      <th>GKKicking</th>\n",
       "      <th>GKPositioning</th>\n",
       "      <th>GKReflexes</th>\n",
       "      <th>Release Clause</th>\n",
       "    </tr>\n",
       "  </thead>\n",
       "  <tbody>\n",
       "    <tr>\n",
       "      <th>0</th>\n",
       "      <td>0</td>\n",
       "      <td>158023</td>\n",
       "      <td>L. Messi</td>\n",
       "      <td>31</td>\n",
       "      <td>https://cdn.sofifa.org/players/4/19/158023.png</td>\n",
       "      <td>Argentina</td>\n",
       "      <td>https://cdn.sofifa.org/flags/52.png</td>\n",
       "      <td>94</td>\n",
       "      <td>94</td>\n",
       "      <td>FC Barcelona</td>\n",
       "      <td>...</td>\n",
       "      <td>96.0</td>\n",
       "      <td>33.0</td>\n",
       "      <td>28.0</td>\n",
       "      <td>26.0</td>\n",
       "      <td>6.0</td>\n",
       "      <td>11.0</td>\n",
       "      <td>15.0</td>\n",
       "      <td>14.0</td>\n",
       "      <td>8.0</td>\n",
       "      <td>€226.5M</td>\n",
       "    </tr>\n",
       "    <tr>\n",
       "      <th>1</th>\n",
       "      <td>1</td>\n",
       "      <td>20801</td>\n",
       "      <td>Cristiano Ronaldo</td>\n",
       "      <td>33</td>\n",
       "      <td>https://cdn.sofifa.org/players/4/19/20801.png</td>\n",
       "      <td>Portugal</td>\n",
       "      <td>https://cdn.sofifa.org/flags/38.png</td>\n",
       "      <td>94</td>\n",
       "      <td>94</td>\n",
       "      <td>Juventus</td>\n",
       "      <td>...</td>\n",
       "      <td>95.0</td>\n",
       "      <td>28.0</td>\n",
       "      <td>31.0</td>\n",
       "      <td>23.0</td>\n",
       "      <td>7.0</td>\n",
       "      <td>11.0</td>\n",
       "      <td>15.0</td>\n",
       "      <td>14.0</td>\n",
       "      <td>11.0</td>\n",
       "      <td>€127.1M</td>\n",
       "    </tr>\n",
       "    <tr>\n",
       "      <th>2</th>\n",
       "      <td>2</td>\n",
       "      <td>190871</td>\n",
       "      <td>Neymar Jr</td>\n",
       "      <td>26</td>\n",
       "      <td>https://cdn.sofifa.org/players/4/19/190871.png</td>\n",
       "      <td>Brazil</td>\n",
       "      <td>https://cdn.sofifa.org/flags/54.png</td>\n",
       "      <td>92</td>\n",
       "      <td>93</td>\n",
       "      <td>Paris Saint-Germain</td>\n",
       "      <td>...</td>\n",
       "      <td>94.0</td>\n",
       "      <td>27.0</td>\n",
       "      <td>24.0</td>\n",
       "      <td>33.0</td>\n",
       "      <td>9.0</td>\n",
       "      <td>9.0</td>\n",
       "      <td>15.0</td>\n",
       "      <td>15.0</td>\n",
       "      <td>11.0</td>\n",
       "      <td>€228.1M</td>\n",
       "    </tr>\n",
       "    <tr>\n",
       "      <th>3</th>\n",
       "      <td>3</td>\n",
       "      <td>193080</td>\n",
       "      <td>De Gea</td>\n",
       "      <td>27</td>\n",
       "      <td>https://cdn.sofifa.org/players/4/19/193080.png</td>\n",
       "      <td>Spain</td>\n",
       "      <td>https://cdn.sofifa.org/flags/45.png</td>\n",
       "      <td>91</td>\n",
       "      <td>93</td>\n",
       "      <td>Manchester United</td>\n",
       "      <td>...</td>\n",
       "      <td>68.0</td>\n",
       "      <td>15.0</td>\n",
       "      <td>21.0</td>\n",
       "      <td>13.0</td>\n",
       "      <td>90.0</td>\n",
       "      <td>85.0</td>\n",
       "      <td>87.0</td>\n",
       "      <td>88.0</td>\n",
       "      <td>94.0</td>\n",
       "      <td>€138.6M</td>\n",
       "    </tr>\n",
       "    <tr>\n",
       "      <th>4</th>\n",
       "      <td>4</td>\n",
       "      <td>192985</td>\n",
       "      <td>K. De Bruyne</td>\n",
       "      <td>27</td>\n",
       "      <td>https://cdn.sofifa.org/players/4/19/192985.png</td>\n",
       "      <td>Belgium</td>\n",
       "      <td>https://cdn.sofifa.org/flags/7.png</td>\n",
       "      <td>91</td>\n",
       "      <td>92</td>\n",
       "      <td>Manchester City</td>\n",
       "      <td>...</td>\n",
       "      <td>88.0</td>\n",
       "      <td>68.0</td>\n",
       "      <td>58.0</td>\n",
       "      <td>51.0</td>\n",
       "      <td>15.0</td>\n",
       "      <td>13.0</td>\n",
       "      <td>5.0</td>\n",
       "      <td>10.0</td>\n",
       "      <td>13.0</td>\n",
       "      <td>€196.4M</td>\n",
       "    </tr>\n",
       "  </tbody>\n",
       "</table>\n",
       "<p>5 rows × 89 columns</p>\n",
       "</div>"
      ],
      "text/plain": [
       "   Unnamed: 0      ID               Name  Age  \\\n",
       "0           0  158023           L. Messi   31   \n",
       "1           1   20801  Cristiano Ronaldo   33   \n",
       "2           2  190871          Neymar Jr   26   \n",
       "3           3  193080             De Gea   27   \n",
       "4           4  192985       K. De Bruyne   27   \n",
       "\n",
       "                                            Photo Nationality  \\\n",
       "0  https://cdn.sofifa.org/players/4/19/158023.png   Argentina   \n",
       "1   https://cdn.sofifa.org/players/4/19/20801.png    Portugal   \n",
       "2  https://cdn.sofifa.org/players/4/19/190871.png      Brazil   \n",
       "3  https://cdn.sofifa.org/players/4/19/193080.png       Spain   \n",
       "4  https://cdn.sofifa.org/players/4/19/192985.png     Belgium   \n",
       "\n",
       "                                  Flag  Overall  Potential  \\\n",
       "0  https://cdn.sofifa.org/flags/52.png       94         94   \n",
       "1  https://cdn.sofifa.org/flags/38.png       94         94   \n",
       "2  https://cdn.sofifa.org/flags/54.png       92         93   \n",
       "3  https://cdn.sofifa.org/flags/45.png       91         93   \n",
       "4   https://cdn.sofifa.org/flags/7.png       91         92   \n",
       "\n",
       "                  Club  ... Composure Marking StandingTackle  SlidingTackle  \\\n",
       "0         FC Barcelona  ...      96.0    33.0           28.0           26.0   \n",
       "1             Juventus  ...      95.0    28.0           31.0           23.0   \n",
       "2  Paris Saint-Germain  ...      94.0    27.0           24.0           33.0   \n",
       "3    Manchester United  ...      68.0    15.0           21.0           13.0   \n",
       "4      Manchester City  ...      88.0    68.0           58.0           51.0   \n",
       "\n",
       "  GKDiving  GKHandling  GKKicking  GKPositioning GKReflexes Release Clause  \n",
       "0      6.0        11.0       15.0           14.0        8.0        €226.5M  \n",
       "1      7.0        11.0       15.0           14.0       11.0        €127.1M  \n",
       "2      9.0         9.0       15.0           15.0       11.0        €228.1M  \n",
       "3     90.0        85.0       87.0           88.0       94.0        €138.6M  \n",
       "4     15.0        13.0        5.0           10.0       13.0        €196.4M  \n",
       "\n",
       "[5 rows x 89 columns]"
      ]
     },
     "execution_count": 2,
     "metadata": {},
     "output_type": "execute_result"
    }
   ],
   "source": [
    "%matplotlib inline\n",
    "# Read in the dataset\n",
    "fifa = pd.read_csv(\"input/data.csv\")   #read the data into a dataframe\n",
    "fifa.head() #print first 5 rows of the data"
   ]
  },
  {
   "cell_type": "code",
   "execution_count": 3,
   "metadata": {
    "_uuid": "87425564fe6abf16814402622369aafd5e383e3f",
    "colab": {
     "base_uri": "https://localhost:8080/",
     "height": 1615
    },
    "colab_type": "code",
    "id": "T6w8_5R93hQd",
    "outputId": "12cd183a-1aec-461e-ab20-22cb0a062ecf"
   },
   "outputs": [],
   "source": [
    "#fifa.info()"
   ]
  },
  {
   "cell_type": "code",
   "execution_count": 4,
   "metadata": {
    "_uuid": "5827c652930133e83fe01ac350e369877503b4a2",
    "colab": {
     "base_uri": "https://localhost:8080/",
     "height": 363
    },
    "colab_type": "code",
    "id": "rs7AfGV_3qTr",
    "outputId": "35832946-6120-4a58-89cc-7b591b31a19a"
   },
   "outputs": [
    {
     "data": {
      "text/html": [
       "<div>\n",
       "<style scoped>\n",
       "    .dataframe tbody tr th:only-of-type {\n",
       "        vertical-align: middle;\n",
       "    }\n",
       "\n",
       "    .dataframe tbody tr th {\n",
       "        vertical-align: top;\n",
       "    }\n",
       "\n",
       "    .dataframe thead th {\n",
       "        text-align: right;\n",
       "    }\n",
       "</style>\n",
       "<table border=\"1\" class=\"dataframe\">\n",
       "  <thead>\n",
       "    <tr style=\"text-align: right;\">\n",
       "      <th></th>\n",
       "      <th>Unnamed: 0</th>\n",
       "      <th>ID</th>\n",
       "      <th>Age</th>\n",
       "      <th>Overall</th>\n",
       "      <th>Potential</th>\n",
       "      <th>Special</th>\n",
       "      <th>International Reputation</th>\n",
       "      <th>Weak Foot</th>\n",
       "      <th>Skill Moves</th>\n",
       "      <th>Jersey Number</th>\n",
       "      <th>...</th>\n",
       "      <th>Penalties</th>\n",
       "      <th>Composure</th>\n",
       "      <th>Marking</th>\n",
       "      <th>StandingTackle</th>\n",
       "      <th>SlidingTackle</th>\n",
       "      <th>GKDiving</th>\n",
       "      <th>GKHandling</th>\n",
       "      <th>GKKicking</th>\n",
       "      <th>GKPositioning</th>\n",
       "      <th>GKReflexes</th>\n",
       "    </tr>\n",
       "  </thead>\n",
       "  <tbody>\n",
       "    <tr>\n",
       "      <th>count</th>\n",
       "      <td>18207.000000</td>\n",
       "      <td>18207.000000</td>\n",
       "      <td>18207.000000</td>\n",
       "      <td>18207.000000</td>\n",
       "      <td>18207.000000</td>\n",
       "      <td>18207.000000</td>\n",
       "      <td>18159.000000</td>\n",
       "      <td>18159.000000</td>\n",
       "      <td>18159.000000</td>\n",
       "      <td>18147.000000</td>\n",
       "      <td>...</td>\n",
       "      <td>18159.000000</td>\n",
       "      <td>18159.000000</td>\n",
       "      <td>18159.000000</td>\n",
       "      <td>18159.000000</td>\n",
       "      <td>18159.000000</td>\n",
       "      <td>18159.000000</td>\n",
       "      <td>18159.000000</td>\n",
       "      <td>18159.000000</td>\n",
       "      <td>18159.000000</td>\n",
       "      <td>18159.000000</td>\n",
       "    </tr>\n",
       "    <tr>\n",
       "      <th>mean</th>\n",
       "      <td>9103.000000</td>\n",
       "      <td>214298.338606</td>\n",
       "      <td>25.122206</td>\n",
       "      <td>66.238699</td>\n",
       "      <td>71.307299</td>\n",
       "      <td>1597.809908</td>\n",
       "      <td>1.113222</td>\n",
       "      <td>2.947299</td>\n",
       "      <td>2.361308</td>\n",
       "      <td>19.546096</td>\n",
       "      <td>...</td>\n",
       "      <td>48.548598</td>\n",
       "      <td>58.648274</td>\n",
       "      <td>47.281623</td>\n",
       "      <td>47.697836</td>\n",
       "      <td>45.661435</td>\n",
       "      <td>16.616223</td>\n",
       "      <td>16.391596</td>\n",
       "      <td>16.232061</td>\n",
       "      <td>16.388898</td>\n",
       "      <td>16.710887</td>\n",
       "    </tr>\n",
       "    <tr>\n",
       "      <th>std</th>\n",
       "      <td>5256.052511</td>\n",
       "      <td>29965.244204</td>\n",
       "      <td>4.669943</td>\n",
       "      <td>6.908930</td>\n",
       "      <td>6.136496</td>\n",
       "      <td>272.586016</td>\n",
       "      <td>0.394031</td>\n",
       "      <td>0.660456</td>\n",
       "      <td>0.756164</td>\n",
       "      <td>15.947765</td>\n",
       "      <td>...</td>\n",
       "      <td>15.704053</td>\n",
       "      <td>11.436133</td>\n",
       "      <td>19.904397</td>\n",
       "      <td>21.664004</td>\n",
       "      <td>21.289135</td>\n",
       "      <td>17.695349</td>\n",
       "      <td>16.906900</td>\n",
       "      <td>16.502864</td>\n",
       "      <td>17.034669</td>\n",
       "      <td>17.955119</td>\n",
       "    </tr>\n",
       "    <tr>\n",
       "      <th>min</th>\n",
       "      <td>0.000000</td>\n",
       "      <td>16.000000</td>\n",
       "      <td>16.000000</td>\n",
       "      <td>46.000000</td>\n",
       "      <td>48.000000</td>\n",
       "      <td>731.000000</td>\n",
       "      <td>1.000000</td>\n",
       "      <td>1.000000</td>\n",
       "      <td>1.000000</td>\n",
       "      <td>1.000000</td>\n",
       "      <td>...</td>\n",
       "      <td>5.000000</td>\n",
       "      <td>3.000000</td>\n",
       "      <td>3.000000</td>\n",
       "      <td>2.000000</td>\n",
       "      <td>3.000000</td>\n",
       "      <td>1.000000</td>\n",
       "      <td>1.000000</td>\n",
       "      <td>1.000000</td>\n",
       "      <td>1.000000</td>\n",
       "      <td>1.000000</td>\n",
       "    </tr>\n",
       "    <tr>\n",
       "      <th>25%</th>\n",
       "      <td>4551.500000</td>\n",
       "      <td>200315.500000</td>\n",
       "      <td>21.000000</td>\n",
       "      <td>62.000000</td>\n",
       "      <td>67.000000</td>\n",
       "      <td>1457.000000</td>\n",
       "      <td>1.000000</td>\n",
       "      <td>3.000000</td>\n",
       "      <td>2.000000</td>\n",
       "      <td>8.000000</td>\n",
       "      <td>...</td>\n",
       "      <td>39.000000</td>\n",
       "      <td>51.000000</td>\n",
       "      <td>30.000000</td>\n",
       "      <td>27.000000</td>\n",
       "      <td>24.000000</td>\n",
       "      <td>8.000000</td>\n",
       "      <td>8.000000</td>\n",
       "      <td>8.000000</td>\n",
       "      <td>8.000000</td>\n",
       "      <td>8.000000</td>\n",
       "    </tr>\n",
       "    <tr>\n",
       "      <th>50%</th>\n",
       "      <td>9103.000000</td>\n",
       "      <td>221759.000000</td>\n",
       "      <td>25.000000</td>\n",
       "      <td>66.000000</td>\n",
       "      <td>71.000000</td>\n",
       "      <td>1635.000000</td>\n",
       "      <td>1.000000</td>\n",
       "      <td>3.000000</td>\n",
       "      <td>2.000000</td>\n",
       "      <td>17.000000</td>\n",
       "      <td>...</td>\n",
       "      <td>49.000000</td>\n",
       "      <td>60.000000</td>\n",
       "      <td>53.000000</td>\n",
       "      <td>55.000000</td>\n",
       "      <td>52.000000</td>\n",
       "      <td>11.000000</td>\n",
       "      <td>11.000000</td>\n",
       "      <td>11.000000</td>\n",
       "      <td>11.000000</td>\n",
       "      <td>11.000000</td>\n",
       "    </tr>\n",
       "    <tr>\n",
       "      <th>75%</th>\n",
       "      <td>13654.500000</td>\n",
       "      <td>236529.500000</td>\n",
       "      <td>28.000000</td>\n",
       "      <td>71.000000</td>\n",
       "      <td>75.000000</td>\n",
       "      <td>1787.000000</td>\n",
       "      <td>1.000000</td>\n",
       "      <td>3.000000</td>\n",
       "      <td>3.000000</td>\n",
       "      <td>26.000000</td>\n",
       "      <td>...</td>\n",
       "      <td>60.000000</td>\n",
       "      <td>67.000000</td>\n",
       "      <td>64.000000</td>\n",
       "      <td>66.000000</td>\n",
       "      <td>64.000000</td>\n",
       "      <td>14.000000</td>\n",
       "      <td>14.000000</td>\n",
       "      <td>14.000000</td>\n",
       "      <td>14.000000</td>\n",
       "      <td>14.000000</td>\n",
       "    </tr>\n",
       "    <tr>\n",
       "      <th>max</th>\n",
       "      <td>18206.000000</td>\n",
       "      <td>246620.000000</td>\n",
       "      <td>45.000000</td>\n",
       "      <td>94.000000</td>\n",
       "      <td>95.000000</td>\n",
       "      <td>2346.000000</td>\n",
       "      <td>5.000000</td>\n",
       "      <td>5.000000</td>\n",
       "      <td>5.000000</td>\n",
       "      <td>99.000000</td>\n",
       "      <td>...</td>\n",
       "      <td>92.000000</td>\n",
       "      <td>96.000000</td>\n",
       "      <td>94.000000</td>\n",
       "      <td>93.000000</td>\n",
       "      <td>91.000000</td>\n",
       "      <td>90.000000</td>\n",
       "      <td>92.000000</td>\n",
       "      <td>91.000000</td>\n",
       "      <td>90.000000</td>\n",
       "      <td>94.000000</td>\n",
       "    </tr>\n",
       "  </tbody>\n",
       "</table>\n",
       "<p>8 rows × 44 columns</p>\n",
       "</div>"
      ],
      "text/plain": [
       "         Unnamed: 0             ID           Age       Overall     Potential  \\\n",
       "count  18207.000000   18207.000000  18207.000000  18207.000000  18207.000000   \n",
       "mean    9103.000000  214298.338606     25.122206     66.238699     71.307299   \n",
       "std     5256.052511   29965.244204      4.669943      6.908930      6.136496   \n",
       "min        0.000000      16.000000     16.000000     46.000000     48.000000   \n",
       "25%     4551.500000  200315.500000     21.000000     62.000000     67.000000   \n",
       "50%     9103.000000  221759.000000     25.000000     66.000000     71.000000   \n",
       "75%    13654.500000  236529.500000     28.000000     71.000000     75.000000   \n",
       "max    18206.000000  246620.000000     45.000000     94.000000     95.000000   \n",
       "\n",
       "            Special  International Reputation     Weak Foot   Skill Moves  \\\n",
       "count  18207.000000              18159.000000  18159.000000  18159.000000   \n",
       "mean    1597.809908                  1.113222      2.947299      2.361308   \n",
       "std      272.586016                  0.394031      0.660456      0.756164   \n",
       "min      731.000000                  1.000000      1.000000      1.000000   \n",
       "25%     1457.000000                  1.000000      3.000000      2.000000   \n",
       "50%     1635.000000                  1.000000      3.000000      2.000000   \n",
       "75%     1787.000000                  1.000000      3.000000      3.000000   \n",
       "max     2346.000000                  5.000000      5.000000      5.000000   \n",
       "\n",
       "       Jersey Number  ...     Penalties     Composure       Marking  \\\n",
       "count   18147.000000  ...  18159.000000  18159.000000  18159.000000   \n",
       "mean       19.546096  ...     48.548598     58.648274     47.281623   \n",
       "std        15.947765  ...     15.704053     11.436133     19.904397   \n",
       "min         1.000000  ...      5.000000      3.000000      3.000000   \n",
       "25%         8.000000  ...     39.000000     51.000000     30.000000   \n",
       "50%        17.000000  ...     49.000000     60.000000     53.000000   \n",
       "75%        26.000000  ...     60.000000     67.000000     64.000000   \n",
       "max        99.000000  ...     92.000000     96.000000     94.000000   \n",
       "\n",
       "       StandingTackle  SlidingTackle      GKDiving    GKHandling  \\\n",
       "count    18159.000000   18159.000000  18159.000000  18159.000000   \n",
       "mean        47.697836      45.661435     16.616223     16.391596   \n",
       "std         21.664004      21.289135     17.695349     16.906900   \n",
       "min          2.000000       3.000000      1.000000      1.000000   \n",
       "25%         27.000000      24.000000      8.000000      8.000000   \n",
       "50%         55.000000      52.000000     11.000000     11.000000   \n",
       "75%         66.000000      64.000000     14.000000     14.000000   \n",
       "max         93.000000      91.000000     90.000000     92.000000   \n",
       "\n",
       "          GKKicking  GKPositioning    GKReflexes  \n",
       "count  18159.000000   18159.000000  18159.000000  \n",
       "mean      16.232061      16.388898     16.710887  \n",
       "std       16.502864      17.034669     17.955119  \n",
       "min        1.000000       1.000000      1.000000  \n",
       "25%        8.000000       8.000000      8.000000  \n",
       "50%       11.000000      11.000000     11.000000  \n",
       "75%       14.000000      14.000000     14.000000  \n",
       "max       91.000000      90.000000     94.000000  \n",
       "\n",
       "[8 rows x 44 columns]"
      ]
     },
     "execution_count": 4,
     "metadata": {},
     "output_type": "execute_result"
    }
   ],
   "source": [
    "fifa.describe()"
   ]
  },
  {
   "cell_type": "markdown",
   "metadata": {
    "_uuid": "e2b02e50785b028fa8ecb00c5665e5e891b992e9",
    "colab_type": "text",
    "id": "Z9jfkpo7SVog"
   },
   "source": [
    "***\n",
    "## Step 2: Data Preprocessing"
   ]
  },
  {
   "cell_type": "markdown",
   "metadata": {
    "_uuid": "8a805fdad2cff27ed6a4a37358c99d5fc651c288",
    "colab_type": "text",
    "id": "UeBh0dAVSFKB"
   },
   "source": [
    "***\n",
    "### Selecting the columns we want to use:"
   ]
  },
  {
   "cell_type": "markdown",
   "metadata": {
    "_uuid": "282a1f7e00d40bccfc788e050c9ab62d2003ab9a"
   },
   "source": [
    "#### _Note: Dropping all the Goal Keeper records and attributes because they have totally different attributes as compared to players in other positions._"
   ]
  },
  {
   "cell_type": "code",
   "execution_count": 5,
   "metadata": {
    "_uuid": "4e081265402cb9da2b43082da46161191cf90f04",
    "colab": {},
    "colab_type": "code",
    "id": "sdg3yLhpmSO5"
   },
   "outputs": [],
   "source": [
    "#choosing column attributes related to attackers, midfielders and defenders\n",
    "df2 = fifa.loc[:, 'Crossing':'Release Clause']\n",
    "df1 = fifa[['ID', 'Name', 'Age', 'Nationality', 'Overall', 'Club', 'Value', 'Wage', 'Preferred Foot', 'Skill Moves', 'Position', 'Height', 'Weight']]\n",
    "df3 = pd.concat([df1, df2], axis=1) #concat along the rows\n",
    "df = df3.drop(['GKDiving', 'GKHandling', 'GKKicking', 'GKPositioning', 'GKReflexes'], axis=1) #dropping gk attributes\n",
    "df = df.loc[df['Position'] != 'GK', :] #removing gk records"
   ]
  },
  {
   "cell_type": "markdown",
   "metadata": {
    "_uuid": "8d31a5210ca9cf10b7e5e5f94ce665da99d44796",
    "colab_type": "text",
    "id": "i6mWClmHTEE2"
   },
   "source": [
    "***\n",
    "### Dropping all the null values in the dataframe:"
   ]
  },
  {
   "cell_type": "code",
   "execution_count": 6,
   "metadata": {
    "_uuid": "0979cf20563a226062fb45b6e073dbd4332c703c",
    "colab": {},
    "colab_type": "code",
    "id": "fS2QWL27zFzi"
   },
   "outputs": [],
   "source": [
    "df = df.dropna()"
   ]
  },
  {
   "cell_type": "markdown",
   "metadata": {
    "_uuid": "f1e92f818ed7762fad647fbcdb8d62251554a402",
    "colab_type": "text",
    "id": "uwIk6GrGTIj1"
   },
   "source": [
    "***\n",
    "### Converting string data to numerical data:"
   ]
  },
  {
   "cell_type": "markdown",
   "metadata": {
    "_uuid": "973624045f00044060a1b821198680054c131f77"
   },
   "source": [
    "#### _In order perform the data analysis, we convert the string values into numerical values._"
   ]
  },
  {
   "cell_type": "code",
   "execution_count": 7,
   "metadata": {
    "_uuid": "b54dced131fa1f6073cf654d3eb4197f48cbf1af",
    "colab": {},
    "colab_type": "code",
    "id": "4tgXtJzMAF9_"
   },
   "outputs": [],
   "source": [
    "def value_to_int(df_value):\n",
    "    try:\n",
    "        value = df_value.str[1:-1].astype(float) #[1:-1] to remove the euro symbol at the start and 'M' or 'K' at the end\n",
    "        #print(value)\n",
    "        #value = float(df_value[1:-1]) #[start_index : end_index - 1]\n",
    "        suffix = df_value.str[-1:]\n",
    "        #print(suffix)\n",
    "        #suffix = df_value[-1:]\n",
    "\n",
    "#converting millions(M){player release clause and value} and thousands(K){player wages} to figures        \n",
    "        row_count = 0\n",
    "        while(row_count < value.shape[0]):   #shape[0] denotes no.of.rows\n",
    "            if suffix.iloc[row_count] == 'M':\n",
    "                value.iloc[row_count] = value.iloc[row_count] * 1000000\n",
    "            elif suffix.iloc[row_count] == 'K':\n",
    "                value.iloc[row_count] = value.iloc[row_count] * 1000\n",
    "            row_count+=1\n",
    "    except ValueError:\n",
    "        value = 0\n",
    "    #print(value)    \n",
    "    return value\n",
    "  \n",
    "df['Value_float'] = value_to_int(df['Value'])\n",
    "#print(df['Value_float'])\n",
    "#df['Value_float'] = df['Value'].apply(value_to_int)\n",
    "df['Wage_float'] = value_to_int(df['Wage'])\n",
    "#print(df['Wage_float'])\n",
    "#df['Wage_float'] = df['Wage'].apply(value_to_int)\n",
    "df['Release_Clause_float'] = value_to_int(df['Release Clause'])\n",
    "#df['Release_Clause_float'] = df['Release Clause'].apply(value_to_int)\n",
    "#print(df['Release_Clause_float'])"
   ]
  },
  {
   "cell_type": "code",
   "execution_count": 8,
   "metadata": {
    "_uuid": "04bfbc2c8e7406ecf806b9646e4a96a2caa8c47b",
    "colab": {},
    "colab_type": "code",
    "id": "Vtx7I9qRGbSA"
   },
   "outputs": [],
   "source": [
    "def weight_to_int(df_weight):\n",
    "    value = df_weight.str[:-3].astype(int)\n",
    "    #print(type(df_weight))\n",
    "    #value = int(df_weight[:-3])   #removing lbs from column value and converting to int\n",
    "    return value\n",
    "  \n",
    "df['Weight_int'] = weight_to_int(df['Weight'])\n",
    "#df['Weight_int'] = df['Weight'].apply(weight_to_int)\n",
    "#df['Weight_int'] = df['Weight_int'].apply(lambda x: int(x))"
   ]
  },
  {
   "cell_type": "code",
   "execution_count": 9,
   "metadata": {},
   "outputs": [],
   "source": [
    "def height_to_int(df_height):\n",
    "    try:\n",
    "        feet = int(df_height[0])\n",
    "        dlm = df_height[-2]\n",
    "\n",
    "        #convert feet and inches to cms, 1 foot = 12 inches, 1 inch = 2.54 cm\n",
    "        if dlm == \"'\":   #single digit after ' eg: 5'2, 6'6\n",
    "            height = (feet * 12 + int(df_height[-1])) * 2.54\n",
    "        elif dlm != \"'\":  #double digit after ' eg: 5'11, 6'10\n",
    "            height = (feet * 12 + int(df_height[-2:])) * 2.54\n",
    "    except ValueError:\n",
    "        height = 0\n",
    "    return height\n",
    "\n",
    "df['Height_int'] = df['Height'].apply(height_to_int)\n",
    "#print(df['Height_int'])"
   ]
  },
  {
   "cell_type": "code",
   "execution_count": 10,
   "metadata": {
    "_uuid": "d5e04d1cc2200029c2bc777c2592711d1368e284",
    "colab": {},
    "colab_type": "code",
    "id": "oMTAQvQYbue3"
   },
   "outputs": [],
   "source": [
    "#convert preferred foot data to numerical data\n",
    "#df.loc['choosing rows', 'choosing columns']\n",
    "df.loc[df['Preferred Foot'] == 'Left', 'Preferred_Foot'] = 1\n",
    "df.loc[df['Preferred Foot'] == 'Right', 'Preferred_Foot'] = 0"
   ]
  },
  {
   "cell_type": "markdown",
   "metadata": {
    "_uuid": "7e749fd5053756c6452abfc2cfa5f371d3a4603e",
    "colab_type": "text",
    "id": "BCRoxOACfrAs"
   },
   "source": [
    "***\n",
    "### Redefine Position:"
   ]
  },
  {
   "cell_type": "markdown",
   "metadata": {
    "_uuid": "4365f9d8d2b10784c57346a28b4723009376468c"
   },
   "source": [
    "#### _Specialize all the player positions into three categories: \"Attackers\", \"Midfielders\", and \"Defenders\"._\n",
    "#### _For example: CAM(Central Attacking Midfielder) and RDM(Right Defensive Midfielder) are all categorized into \"Midfielders\"._"
   ]
  },
  {
   "cell_type": "code",
   "execution_count": 11,
   "metadata": {
    "_uuid": "58a8ac33496aceeb551f42740ad0d2c7a0e92b5c",
    "colab": {},
    "colab_type": "code",
    "id": "W7kSF-nRfmz_"
   },
   "outputs": [
    {
     "name": "stdout",
     "output_type": "stream",
     "text": [
      "No.of Positions:  26\n"
     ]
    }
   ],
   "source": [
    "df.Position.unique() #check the unique positions \n",
    "print(\"No.of Positions: \", df.Position.unique().shape[0])\n",
    "\n",
    "for i in ['ST', 'CF', 'LF', 'LS', 'LW', 'RF', 'RS', 'RW']:\n",
    "  df.loc[df.Position == i , 'Player_Position'] = 'Attackers' \n",
    "\n",
    "for i in ['CAM', 'CDM', 'LCM', 'CM', 'LAM', 'LDM', 'LM', 'RAM', 'RCM', 'RDM', 'RM']:\n",
    "  df.loc[df.Position == i , 'Player_Position'] = 'Midfielder' \n",
    "\n",
    "for i in ['CB', 'LB', 'LCB', 'LWB', 'RB', 'RCB', 'RWB']:\n",
    "  df.loc[df.Position == i , 'Player_Position'] = 'Defender' \n",
    "\n",
    "#df.loc[df['Pos'] == 'Strikers', 'Pos_int'] = 1\n",
    "#df.loc[df['Pos'] == 'Midfielder', 'Pos_int'] = 2\n",
    "#df.loc[df['Pos'] == 'Defender', 'Pos_int'] = 3\n",
    "\n"
   ]
  },
  {
   "cell_type": "markdown",
   "metadata": {
    "_uuid": "9163cdad81b0c1c7e140a001f7288a5f80cf5ade",
    "colab_type": "text",
    "id": "gTYYbpsKTukf"
   },
   "source": [
    "***\n",
    "### Keep the preprocessed data:"
   ]
  },
  {
   "cell_type": "code",
   "execution_count": 12,
   "metadata": {
    "_uuid": "a026481d0636971221376f459c47492590c79ce4",
    "colab": {},
    "colab_type": "code",
    "id": "iQfbZbfkJLPC"
   },
   "outputs": [],
   "source": [
    "df = df.drop(['Value', 'Wage', 'Release Clause', 'Weight', 'Height'], axis=1) #remove redundant data"
   ]
  },
  {
   "cell_type": "markdown",
   "metadata": {
    "_uuid": "fb24a9ab99357aed5e8a7d4352ebd06ee3f7dee7",
    "colab_type": "text",
    "id": "7UNp_AFAT_uL"
   },
   "source": [
    "### Choose players with more than 70 overall rating:"
   ]
  },
  {
   "cell_type": "markdown",
   "metadata": {
    "_uuid": "6d9b346f9e403f710be7536e2b5bf7e49892cee1"
   },
   "source": [
    "#### _The reason of only filtering out 70+ rating players is to see how good players define their position and to find out how to become good player by choosing the right position based on player's attributes._"
   ]
  },
  {
   "cell_type": "code",
   "execution_count": 13,
   "metadata": {
    "_uuid": "889ee778f03e5f8a52a66ea26140a491d84efd21",
    "colab": {
     "base_uri": "https://localhost:8080/",
     "height": 355
    },
    "colab_type": "code",
    "id": "2lrOfQFzLccT",
    "outputId": "83ecc297-baca-42e8-c650-2aa2e15af651"
   },
   "outputs": [
    {
     "name": "stdout",
     "output_type": "stream",
     "text": [
      "After removing players having overall<70, the shape of the dataframe is: (4655, 45)\n"
     ]
    },
    {
     "data": {
      "text/html": [
       "<div>\n",
       "<style scoped>\n",
       "    .dataframe tbody tr th:only-of-type {\n",
       "        vertical-align: middle;\n",
       "    }\n",
       "\n",
       "    .dataframe tbody tr th {\n",
       "        vertical-align: top;\n",
       "    }\n",
       "\n",
       "    .dataframe thead th {\n",
       "        text-align: right;\n",
       "    }\n",
       "</style>\n",
       "<table border=\"1\" class=\"dataframe\">\n",
       "  <thead>\n",
       "    <tr style=\"text-align: right;\">\n",
       "      <th></th>\n",
       "      <th>ID</th>\n",
       "      <th>Name</th>\n",
       "      <th>Age</th>\n",
       "      <th>Nationality</th>\n",
       "      <th>Overall</th>\n",
       "      <th>Club</th>\n",
       "      <th>Preferred Foot</th>\n",
       "      <th>Skill Moves</th>\n",
       "      <th>Position</th>\n",
       "      <th>Crossing</th>\n",
       "      <th>...</th>\n",
       "      <th>Marking</th>\n",
       "      <th>StandingTackle</th>\n",
       "      <th>SlidingTackle</th>\n",
       "      <th>Value_float</th>\n",
       "      <th>Wage_float</th>\n",
       "      <th>Release_Clause_float</th>\n",
       "      <th>Weight_int</th>\n",
       "      <th>Height_int</th>\n",
       "      <th>Preferred_Foot</th>\n",
       "      <th>Player_Position</th>\n",
       "    </tr>\n",
       "  </thead>\n",
       "  <tbody>\n",
       "    <tr>\n",
       "      <th>0</th>\n",
       "      <td>158023</td>\n",
       "      <td>L. Messi</td>\n",
       "      <td>31</td>\n",
       "      <td>Argentina</td>\n",
       "      <td>94</td>\n",
       "      <td>FC Barcelona</td>\n",
       "      <td>Left</td>\n",
       "      <td>4.0</td>\n",
       "      <td>RF</td>\n",
       "      <td>84.0</td>\n",
       "      <td>...</td>\n",
       "      <td>33.0</td>\n",
       "      <td>28.0</td>\n",
       "      <td>26.0</td>\n",
       "      <td>110500000.0</td>\n",
       "      <td>565000.0</td>\n",
       "      <td>226500000.0</td>\n",
       "      <td>159</td>\n",
       "      <td>170.18</td>\n",
       "      <td>1.0</td>\n",
       "      <td>Attackers</td>\n",
       "    </tr>\n",
       "    <tr>\n",
       "      <th>1</th>\n",
       "      <td>20801</td>\n",
       "      <td>Cristiano Ronaldo</td>\n",
       "      <td>33</td>\n",
       "      <td>Portugal</td>\n",
       "      <td>94</td>\n",
       "      <td>Juventus</td>\n",
       "      <td>Right</td>\n",
       "      <td>5.0</td>\n",
       "      <td>ST</td>\n",
       "      <td>84.0</td>\n",
       "      <td>...</td>\n",
       "      <td>28.0</td>\n",
       "      <td>31.0</td>\n",
       "      <td>23.0</td>\n",
       "      <td>77000000.0</td>\n",
       "      <td>405000.0</td>\n",
       "      <td>127100000.0</td>\n",
       "      <td>183</td>\n",
       "      <td>187.96</td>\n",
       "      <td>0.0</td>\n",
       "      <td>Attackers</td>\n",
       "    </tr>\n",
       "    <tr>\n",
       "      <th>2</th>\n",
       "      <td>190871</td>\n",
       "      <td>Neymar Jr</td>\n",
       "      <td>26</td>\n",
       "      <td>Brazil</td>\n",
       "      <td>92</td>\n",
       "      <td>Paris Saint-Germain</td>\n",
       "      <td>Right</td>\n",
       "      <td>5.0</td>\n",
       "      <td>LW</td>\n",
       "      <td>79.0</td>\n",
       "      <td>...</td>\n",
       "      <td>27.0</td>\n",
       "      <td>24.0</td>\n",
       "      <td>33.0</td>\n",
       "      <td>118500000.0</td>\n",
       "      <td>290000.0</td>\n",
       "      <td>228100000.0</td>\n",
       "      <td>150</td>\n",
       "      <td>175.26</td>\n",
       "      <td>0.0</td>\n",
       "      <td>Attackers</td>\n",
       "    </tr>\n",
       "    <tr>\n",
       "      <th>4</th>\n",
       "      <td>192985</td>\n",
       "      <td>K. De Bruyne</td>\n",
       "      <td>27</td>\n",
       "      <td>Belgium</td>\n",
       "      <td>91</td>\n",
       "      <td>Manchester City</td>\n",
       "      <td>Right</td>\n",
       "      <td>4.0</td>\n",
       "      <td>RCM</td>\n",
       "      <td>93.0</td>\n",
       "      <td>...</td>\n",
       "      <td>68.0</td>\n",
       "      <td>58.0</td>\n",
       "      <td>51.0</td>\n",
       "      <td>102000000.0</td>\n",
       "      <td>355000.0</td>\n",
       "      <td>196400000.0</td>\n",
       "      <td>154</td>\n",
       "      <td>180.34</td>\n",
       "      <td>0.0</td>\n",
       "      <td>Midfielder</td>\n",
       "    </tr>\n",
       "    <tr>\n",
       "      <th>5</th>\n",
       "      <td>183277</td>\n",
       "      <td>E. Hazard</td>\n",
       "      <td>27</td>\n",
       "      <td>Belgium</td>\n",
       "      <td>91</td>\n",
       "      <td>Chelsea</td>\n",
       "      <td>Right</td>\n",
       "      <td>4.0</td>\n",
       "      <td>LF</td>\n",
       "      <td>81.0</td>\n",
       "      <td>...</td>\n",
       "      <td>34.0</td>\n",
       "      <td>27.0</td>\n",
       "      <td>22.0</td>\n",
       "      <td>93000000.0</td>\n",
       "      <td>340000.0</td>\n",
       "      <td>172100000.0</td>\n",
       "      <td>163</td>\n",
       "      <td>172.72</td>\n",
       "      <td>0.0</td>\n",
       "      <td>Attackers</td>\n",
       "    </tr>\n",
       "  </tbody>\n",
       "</table>\n",
       "<p>5 rows × 45 columns</p>\n",
       "</div>"
      ],
      "text/plain": [
       "       ID               Name  Age Nationality  Overall                 Club  \\\n",
       "0  158023           L. Messi   31   Argentina       94         FC Barcelona   \n",
       "1   20801  Cristiano Ronaldo   33    Portugal       94             Juventus   \n",
       "2  190871          Neymar Jr   26      Brazil       92  Paris Saint-Germain   \n",
       "4  192985       K. De Bruyne   27     Belgium       91      Manchester City   \n",
       "5  183277          E. Hazard   27     Belgium       91              Chelsea   \n",
       "\n",
       "  Preferred Foot  Skill Moves Position  Crossing  ...  Marking  \\\n",
       "0           Left          4.0       RF      84.0  ...     33.0   \n",
       "1          Right          5.0       ST      84.0  ...     28.0   \n",
       "2          Right          5.0       LW      79.0  ...     27.0   \n",
       "4          Right          4.0      RCM      93.0  ...     68.0   \n",
       "5          Right          4.0       LF      81.0  ...     34.0   \n",
       "\n",
       "   StandingTackle  SlidingTackle  Value_float  Wage_float  \\\n",
       "0            28.0           26.0  110500000.0    565000.0   \n",
       "1            31.0           23.0   77000000.0    405000.0   \n",
       "2            24.0           33.0  118500000.0    290000.0   \n",
       "4            58.0           51.0  102000000.0    355000.0   \n",
       "5            27.0           22.0   93000000.0    340000.0   \n",
       "\n",
       "   Release_Clause_float  Weight_int  Height_int  Preferred_Foot  \\\n",
       "0           226500000.0         159      170.18             1.0   \n",
       "1           127100000.0         183      187.96             0.0   \n",
       "2           228100000.0         150      175.26             0.0   \n",
       "4           196400000.0         154      180.34             0.0   \n",
       "5           172100000.0         163      172.72             0.0   \n",
       "\n",
       "   Player_Position  \n",
       "0        Attackers  \n",
       "1        Attackers  \n",
       "2        Attackers  \n",
       "4       Midfielder  \n",
       "5        Attackers  \n",
       "\n",
       "[5 rows x 45 columns]"
      ]
     },
     "execution_count": 13,
     "metadata": {},
     "output_type": "execute_result"
    }
   ],
   "source": [
    "df = df[df['Overall'] >=70]\n",
    "print(\"After removing players having overall<70, the shape of the dataframe is:\", df.shape)\n",
    "df.head()"
   ]
  },
  {
   "cell_type": "code",
   "execution_count": 14,
   "metadata": {},
   "outputs": [
    {
     "name": "stdout",
     "output_type": "stream",
     "text": [
      "No.of Attackers: 941 \n",
      " No.of Midfielder: 2075 \n",
      " No.of Defender: 1639\n",
      "[941, 2075, 1639]\n",
      "Midfielder    2075\n",
      "Defender      1639\n",
      "Attackers      941\n",
      "Name: Player_Position, dtype: int64\n",
      "['Attackers' 'Midfielder' 'Defender']\n"
     ]
    }
   ],
   "source": [
    "#counting the number of players under each \n",
    "#position(Attackers, Midfielder, Defender) after removing players having overall less than 70\n",
    "\n",
    "xx = 0\n",
    "attacker_count = 0\n",
    "midfielder_count = 0\n",
    "defender_count = 0\n",
    "while xx < df.Player_Position.shape[0]:\n",
    "    if df['Player_Position'].iloc[xx] == 'Attackers':\n",
    "            attacker_count+=1\n",
    "    elif df['Player_Position'].iloc[xx] == 'Midfielder':\n",
    "            midfielder_count+=1\n",
    "    elif df['Player_Position'].iloc[xx] == 'Defender':\n",
    "            defender_count+=1\n",
    "    xx+=1\n",
    "print('No.of Attackers:', attacker_count, \"\\n\",'No.of Midfielder:', midfielder_count, \"\\n\",'No.of Defender:', defender_count)\n",
    "\n",
    "Position_counts = [attacker_count, midfielder_count, defender_count]\n",
    "print(Position_counts)\n",
    "print(df.Player_Position.value_counts())\n",
    "print(df.Player_Position.unique())"
   ]
  },
  {
   "cell_type": "markdown",
   "metadata": {
    "_uuid": "2a930cc0545c382007d688a6d2c30016ad17f6b0",
    "colab_type": "text",
    "id": "3hmJmaTWUiqg"
   },
   "source": [
    "***\n",
    "## Step 3: Obtaining insights by performing Data Analysis"
   ]
  },
  {
   "cell_type": "markdown",
   "metadata": {
    "_uuid": "740617c421c180bdbb007d106f1ce513bafe61fe",
    "colab_type": "text",
    "id": "W68WKe0PEd__"
   },
   "source": [
    "***\n",
    "### Distribution of each position:"
   ]
  },
  {
   "cell_type": "code",
   "execution_count": 15,
   "metadata": {
    "_uuid": "05ece9afb58261c7925a16844f83153fd44d24b6",
    "colab": {
     "base_uri": "https://localhost:8080/",
     "height": 514
    },
    "colab_type": "code",
    "id": "ez3h_z_LO5V1",
    "outputId": "b3df4091-d902-4bdb-dee5-c97bacb32d18"
   },
   "outputs": [
    {
     "data": {
      "image/png": "[encoded data removed]",
      "text/plain": [
       "<Figure size 720x432 with 1 Axes>"
      ]
     },
     "metadata": {
      "needs_background": "light"
     },
     "output_type": "display_data"
    }
   ],
   "source": [
    "plt.figure(figsize=(10, 6))\n",
    "labels_x = ['Attackers', 'Midfielder', 'Defender']\n",
    "plt.bar(labels_x, Position_counts)\n",
    "plt.xticks(labels_x)\n",
    "plt.xlabel(\"Player Position\")\n",
    "plt.ylabel(\"Position Count\")\n",
    "plt.show()"
   ]
  },
  {
   "cell_type": "markdown",
   "metadata": {
    "_uuid": "136d3c3dd1cc0db967356a45a75a8104dabe3f9b"
   },
   "source": [
    "### Insights:\n",
    "- The total count of Midfielders is larger than that of Attackers because there are more specified positions for Midfielders."
   ]
  },
  {
   "cell_type": "code",
   "execution_count": 16,
   "metadata": {},
   "outputs": [
    {
     "data": {
      "text/plain": [
       "Index(['ID', 'Name', 'Age', 'Nationality', 'Overall', 'Club', 'Preferred Foot',\n",
       "       'Skill Moves', 'Position', 'Crossing', 'Finishing', 'HeadingAccuracy',\n",
       "       'ShortPassing', 'Volleys', 'Dribbling', 'Curve', 'FKAccuracy',\n",
       "       'LongPassing', 'BallControl', 'Acceleration', 'SprintSpeed', 'Agility',\n",
       "       'Reactions', 'Balance', 'ShotPower', 'Jumping', 'Stamina', 'Strength',\n",
       "       'LongShots', 'Aggression', 'Interceptions', 'Positioning', 'Vision',\n",
       "       'Penalties', 'Composure', 'Marking', 'StandingTackle', 'SlidingTackle',\n",
       "       'Value_float', 'Wage_float', 'Release_Clause_float', 'Weight_int',\n",
       "       'Height_int', 'Preferred_Foot', 'Player_Position'],\n",
       "      dtype='object')"
      ]
     },
     "execution_count": 16,
     "metadata": {},
     "output_type": "execute_result"
    }
   ],
   "source": [
    "df.columns"
   ]
  },
  {
   "cell_type": "code",
   "execution_count": 17,
   "metadata": {
    "_uuid": "7e2b5872cda339ef1678cdc8942ad6e97f9342b1",
    "colab": {
     "base_uri": "https://localhost:8080/",
     "height": 914
    },
    "colab_type": "code",
    "id": "LfB4W9gdEuaz",
    "outputId": "730c8948-230f-415c-f841-902e9e2fb85b"
   },
   "outputs": [
    {
     "data": {
      "text/plain": [
       "[Text(0, 0.5, 'Heading Accuracy'), Text(0.5, 0, 'Player Position')]"
      ]
     },
     "execution_count": 17,
     "metadata": {},
     "output_type": "execute_result"
    },
    {
     "data": {
      "text/plain": [
       "<Figure size 864x576 with 0 Axes>"
      ]
     },
     "metadata": {},
     "output_type": "display_data"
    },
    {
     "data": {
      "image/png": "[encoded data removed]",
      "text/plain": [
       "<Figure size 1080x1080 with 4 Axes>"
      ]
     },
     "metadata": {
      "needs_background": "light"
     },
     "output_type": "display_data"
    }
   ],
   "source": [
    "plt.figure(figsize=(12, 8))\n",
    "\n",
    "# Set up the matplotlib figure\n",
    "f, axes = plt.subplots(2, 2, figsize=(15, 15), sharex=False)\n",
    "#sns.despine(left=True)\n",
    "\n",
    "box_plot1 = sns.boxplot('Player_Position', 'Age', data = df, ax=axes[0, 0], palette='colorblind')\n",
    "box_plot1.set(xlabel='Player Position', ylabel='Age')\n",
    "\n",
    "box_plot2 = sns.boxplot('Player_Position', 'Overall', data = df, ax=axes[0, 1], palette='colorblind')\n",
    "box_plot2.set(xlabel='Player Position', ylabel='Overall')\n",
    "\n",
    "box_plot3 = sns.boxplot('Player_Position', 'Crossing', data = df, ax=axes[1, 0], palette='colorblind')\n",
    "box_plot3.set(xlabel='Player Position', ylabel='Crossing')\n",
    "\n",
    "box_plot4 = sns.boxplot('Player_Position', 'HeadingAccuracy', data = df, ax=axes[1, 1], palette='colorblind')\n",
    "box_plot4.set(xlabel='Player Position', ylabel='Heading Accuracy')"
   ]
  },
  {
   "cell_type": "code",
   "execution_count": 18,
   "metadata": {},
   "outputs": [
    {
     "data": {
      "text/plain": [
       "[Text(0, 0.5, 'Aggression'), Text(0.5, 0, 'Player Position')]"
      ]
     },
     "execution_count": 18,
     "metadata": {},
     "output_type": "execute_result"
    },
    {
     "data": {
      "text/plain": [
       "<Figure size 864x576 with 0 Axes>"
      ]
     },
     "metadata": {},
     "output_type": "display_data"
    },
    {
     "data": {
      "image/png": "[encoded data removed]",
      "text/plain": [
       "<Figure size 1080x1080 with 4 Axes>"
      ]
     },
     "metadata": {
      "needs_background": "light"
     },
     "output_type": "display_data"
    }
   ],
   "source": [
    "plt.figure(figsize=(12, 8))\n",
    "\n",
    "# Set up the matplotlib figure\n",
    "f, axes = plt.subplots(2, 2, figsize=(15, 15), sharex=False)\n",
    "#sns.despine(left=True)\n",
    "\n",
    "box_plot5 = sns.boxplot('Player_Position', 'ShortPassing', data = df, ax=axes[0, 0], palette='colorblind')\n",
    "box_plot5.set(xlabel='Player Position', ylabel='Short Passing')\n",
    "\n",
    "box_plot6 = sns.boxplot('Player_Position', 'LongPassing', data = df, ax=axes[0, 1], palette='colorblind')\n",
    "box_plot6.set(xlabel='Player Position', ylabel='Long Passing')\n",
    "\n",
    "box_plot7 = sns.boxplot('Player_Position', 'Dribbling', data = df, ax=axes[1, 0], palette='colorblind')\n",
    "box_plot7.set(xlabel='Player Position', ylabel='Dribbling')\n",
    "\n",
    "box_plot8 = sns.boxplot('Player_Position', 'Aggression', data = df, ax=axes[1, 1], palette='colorblind')\n",
    "box_plot8.set(xlabel='Player Position', ylabel='Aggression')"
   ]
  },
  {
   "cell_type": "code",
   "execution_count": 19,
   "metadata": {},
   "outputs": [
    {
     "data": {
      "text/plain": [
       "[Text(0, 0.5, 'Height'), Text(0.5, 0, 'Player Position')]"
      ]
     },
     "execution_count": 19,
     "metadata": {},
     "output_type": "execute_result"
    },
    {
     "data": {
      "text/plain": [
       "<Figure size 864x576 with 0 Axes>"
      ]
     },
     "metadata": {},
     "output_type": "display_data"
    },
    {
     "data": {
      "image/png": "[encoded data removed]",
      "text/plain": [
       "<Figure size 1080x504 with 2 Axes>"
      ]
     },
     "metadata": {
      "needs_background": "light"
     },
     "output_type": "display_data"
    }
   ],
   "source": [
    "plt.figure(figsize=(12, 8))\n",
    "\n",
    "# Set up the matplotlib figure\n",
    "f, axes = plt.subplots(1, 2, figsize=(15, 7), sharex=False)\n",
    "#sns.despine(left=True)\n",
    "\n",
    "box_plot9 = sns.boxplot('Player_Position', 'Weight_int', data = df, ax=axes[0], palette='colorblind')\n",
    "box_plot9.set(xlabel='Player Position', ylabel='Weight')\n",
    "\n",
    "box_plot10 = sns.boxplot('Player_Position', 'Height_int', data = df, ax=axes[1], palette='colorblind')\n",
    "box_plot10.set(xlabel='Player Position', ylabel='Height')"
   ]
  },
  {
   "cell_type": "markdown",
   "metadata": {
    "_uuid": "444d79b571afbdf069e90bdb46118a170b756d64"
   },
   "source": [
    "### Insights:\n",
    "- There is no significant difference in Overall Rating among all three positions, excluded from the prediction model \n",
    "- Defender has a smaller deviation in Age.\n",
    "- Midfielder tends to be shorter and lighter since they need to be more flexible in passing and dribbling. Most midfielders take set-pieces and convert them to goals. Hence they have higher FKAccuracy \n",
    "- Attackers can score goals by heading the ball. Attackers playing as target man are taller and have higher heading accuracy, good at volleying the ball.\n",
    "- Defenders are taller as the go to the opposite end during corners and freekicks to score a goal with the head and have higher heading accuracy\n",
    "- Defenders are heavier as they perform last ditch tackles and they are physically stronger.\n",
    "- Attackers are slightly heavier and strong as they shield the ball and turn to score during crosses and freekicks\n",
    "- Attackers(LW, RW) and Midfielders(LM, RM) create goal scoring chances by crossing the ball inside the box, hence they have good crossing ability\n",
    "- Attackers and some Midfielders are very good at finishing (i.e converting chances to goals) and ball-controlling.\n",
    "- Midfielders maintain possesion in a game, disposses opposing players and initiate an attack by feeding the ball to attackers. Initiation of an attack requires a lot of passing and so they generally have higher short and long passing skills.\n",
    "- Attackers and midfielders tend to be agile and are faster as they collect long balls passed through or above defenders.\n",
    "- Defenders and midfielders have higher pass interception skills in order to gain possession and move the ball forward.\n",
    "- Defenders and midfielders are good at standing and sliding tackles and marking opposition players as it is their duty to get possession of the ball. "
   ]
  },
  {
   "cell_type": "code",
   "execution_count": 20,
   "metadata": {
    "_uuid": "6808497943a81f694b2fe19a2b94e4218efd7f95",
    "colab": {
     "base_uri": "https://localhost:8080/",
     "height": 416
    },
    "colab_type": "code",
    "id": "b04aqvoI6tbe",
    "outputId": "e1048075-79b1-477f-d237-de5534e8eaa9"
   },
   "outputs": [
    {
     "data": {
      "text/plain": [
       "[Text(0, 0.5, 'Wage'), Text(0.5, 0, 'Player Position')]"
      ]
     },
     "execution_count": 20,
     "metadata": {},
     "output_type": "execute_result"
    },
    {
     "data": {
      "image/png": "[encoded data removed]",
      "text/plain": [
       "<Figure size 1080x504 with 2 Axes>"
      ]
     },
     "metadata": {
      "needs_background": "light"
     },
     "output_type": "display_data"
    }
   ],
   "source": [
    "f, axes = plt.subplots(1, 2, figsize=(15, 7), sharex=False)\n",
    "sns.despine(left=True)\n",
    "\n",
    "#sns.boxplot('Player_Position', 'Value_float', data = df, showfliers=False, ax=axes[0, 0])\n",
    "#sns.boxplot('Player_Position', 'Wage_float', data = df, showfliers=False, ax=axes[0, 1])\n",
    "#sns.boxplot('Player_Position', 'Release_Clause_float', data = df, showfliers=False, ax=axes[1, 0])\n",
    "\n",
    "box_plot11 = sns.boxplot('Player_Position', 'Value_float', data = df, showfliers=False, ax=axes[0], palette='colorblind')\n",
    "box_plot11.set(xlabel='Player Position', ylabel='Value')\n",
    "\n",
    "box_plot12 = sns.boxplot('Player_Position', 'Wage_float', data = df, showfliers=False, ax=axes[1], palette='colorblind')\n",
    "box_plot12.set(xlabel='Player Position', ylabel='Wage')\n",
    "\n",
    "#box_plot13 = sns.boxplot('Player_Position', 'Weight_int', data = df, ax=axes[0], palette='colorblind')\n",
    "#box_plot13.set(xlabel='Player Position', ylabel='Weight')"
   ]
  },
  {
   "cell_type": "markdown",
   "metadata": {
    "_uuid": "f45e138e3a616de0b12c564a56369b5c5c57c748"
   },
   "source": [
    "### Insights:\n",
    "- Strikers tend to have higher value, wage, and Release Clause compared to other positions and Defender is the lowest.\n",
    "- It aligns to a fact that, normally, people care more about attacking but ignore the true value of defending."
   ]
  },
  {
   "cell_type": "code",
   "execution_count": 21,
   "metadata": {
    "_uuid": "0cc9d3180079a2f1e6e186c04c0333523071249b",
    "colab": {
     "base_uri": "https://localhost:8080/",
     "height": 623
    },
    "colab_type": "code",
    "id": "jv1uEtHiU30L",
    "outputId": "0ea61cd6-f25d-44e2-d63c-ee0a1b901af2"
   },
   "outputs": [
    {
     "data": {
      "image/png": "[encoded data removed]",
      "text/plain": [
       "<Figure size 792x576 with 1 Axes>"
      ]
     },
     "metadata": {
      "needs_background": "light"
     },
     "output_type": "display_data"
    }
   ],
   "source": [
    "plt.figure(figsize=(11,8))\n",
    "\n",
    "attr_rec = df[df['Player_Position'] == 'Attackers']\n",
    "midf_rec = df[df['Player_Position'] == 'Midfielder']\n",
    "def_rec = df[df['Player_Position'] == 'Defender']\n",
    "\n",
    "bar_attr = attr_rec[\"Skill Moves\"].value_counts().sort_index().values\n",
    "bar_midf = midf_rec[\"Skill Moves\"].value_counts().sort_index().values\n",
    "bar_def = def_rec[\"Skill Moves\"].value_counts().sort_index().values\n",
    "\n",
    "barWidth = 0.25\n",
    "\n",
    "# Set position of bar on X axis\n",
    "r1 = np.arange(len(bar_attr))\n",
    "r2 = [x + barWidth for x in r1]\n",
    "r3 = [x + barWidth for x in r2]\n",
    "\n",
    "plt.bar(r1, bar_attr, color='#7f6d5f', width=barWidth, edgecolor='white', label='Attackers')\n",
    "plt.bar(r2, bar_midf, color='#557f2d', width=barWidth, edgecolor='white', label='Midfielder')\n",
    "plt.bar(r3, bar_def, color='#2d7f5e', width=barWidth, edgecolor='white', label='Defender')\n",
    "\n",
    "# Add xticks on the middle of the group bars\n",
    "plt.xlabel('Skill Moves', fontweight='bold',  fontsize = 25)\n",
    "plt.xticks([r + barWidth for r in range(len(bar_attr))], \n",
    "           attr_rec[\"Skill Moves\"].value_counts().sort_index().index, fontsize = 15)\n",
    "plt.yticks(fontsize = 15)\n",
    "plt.legend(prop={'size': 20})\n",
    "plt.show()"
   ]
  },
  {
   "cell_type": "markdown",
   "metadata": {
    "_uuid": "4b0a9a21d40f69cad61ca436a94c6197fccfc713"
   },
   "source": [
    "### Insights:\n",
    "- A skill move is done by the player in order to keep the possession of the ball and go past the opposition players. It can be a flick, spin, chop, fake pass, etc. Defender has a much lower skill move score compared to Strikers and Midfielder, which could be one of the reasons why Defender values less than the other two positions. Since Defender cannot perform eye-catching moves due to their low skills move scores, they cannot show their value in a straight forward way."
   ]
  },
  {
   "cell_type": "code",
   "execution_count": 22,
   "metadata": {
    "_uuid": "ee293462531d5a25150f12dd7da9a59e7d86050b",
    "colab": {
     "base_uri": "https://localhost:8080/",
     "height": 623
    },
    "colab_type": "code",
    "id": "0JxQ9Lyc3KoJ",
    "outputId": "1e7df884-8aa1-4c37-c1dc-4d0017f2250d"
   },
   "outputs": [
    {
     "data": {
      "image/png": "[encoded data removed]",
      "text/plain": [
       "<Figure size 792x576 with 1 Axes>"
      ]
     },
     "metadata": {
      "needs_background": "light"
     },
     "output_type": "display_data"
    }
   ],
   "source": [
    "plt.figure(figsize=(11,8))\n",
    "\n",
    "attr_rec = df[df['Player_Position'] == 'Attackers']\n",
    "midf_rec = df[df['Player_Position'] == 'Midfielder']\n",
    "def_rec = df[df['Player_Position'] == 'Defender']\n",
    "\n",
    "bar_attr = attr_rec['Preferred Foot'].value_counts().sort_index().values\n",
    "bar_midf = midf_rec['Preferred Foot'].value_counts().sort_index().values\n",
    "bar_def = def_rec['Preferred Foot'].value_counts().sort_index().values\n",
    "\n",
    "barWidth = 0.25\n",
    "\n",
    "# Set position of bar on X axis\n",
    "r1 = np.arange(len(bar_attr))\n",
    "r2 = [x + barWidth for x in r1]\n",
    "r3 = [x + barWidth for x in r2]\n",
    "\n",
    "plt.bar(r1, bar_attr, color='#7f6d5f', width=barWidth, edgecolor='white', label='Attackers')\n",
    "plt.bar(r2, bar_midf, color='#557f2d', width=barWidth, edgecolor='white', label='Midfielder')\n",
    "plt.bar(r3, bar_def, color='#2d7f5e', width=barWidth, edgecolor='white', label='Defender')\n",
    "\n",
    "# Add xticks on the middle of the group bars\n",
    "plt.xlabel('Preferred Foot', fontweight='bold',  fontsize = 25)\n",
    "plt.xticks([r + barWidth for r in range(len(bar_attr))], \n",
    "           attr_rec['Preferred Foot'].value_counts().sort_index().index, fontsize = 15)\n",
    "plt.yticks(fontsize = 15)\n",
    "plt.legend(prop={'size': 20})\n",
    "plt.show()"
   ]
  },
  {
   "cell_type": "markdown",
   "metadata": {
    "_uuid": "6eac68e876808a17f6140a0c1369f3142b5a7303"
   },
   "source": [
    "### Insights:\n",
    "- There are more right footed players than left. Compared to Strikers and Midfielder, Defender is more balanced on their foot, even though all three positions are heavily right feet used."
   ]
  },
  {
   "cell_type": "markdown",
   "metadata": {
    "_uuid": "86c9b21d3381e8b1e2f05e2c013f128f19f65412",
    "colab_type": "text",
    "id": "RzZYSgwQf4IO"
   },
   "source": [
    "***\n",
    "## Step 4: Modeling"
   ]
  },
  {
   "cell_type": "markdown",
   "metadata": {
    "_uuid": "f2a32e9f70b5bc1b253287a864b9163ba2dcf7fa",
    "colab_type": "text",
    "id": "qYskpsuwgr1e"
   },
   "source": [
    "***\n",
    "### Splitting the dataset into train and test sets:"
   ]
  },
  {
   "cell_type": "code",
   "execution_count": 23,
   "metadata": {
    "_uuid": "53cd4795a64ad7be5cab9a12b936f69db86fad73",
    "colab": {},
    "colab_type": "code",
    "id": "qpBj7KoMf3vC"
   },
   "outputs": [],
   "source": [
    "cols = ['Age', 'Skill Moves', 'Crossing', 'Finishing', 'HeadingAccuracy', 'ShortPassing', 'Volleys',\n",
    "       'Dribbling', 'Curve', 'FKAccuracy', 'LongPassing', 'BallControl',\n",
    "       'Acceleration', 'SprintSpeed', 'Agility', 'Reactions', 'Balance',\n",
    "       'ShotPower', 'Jumping', 'Stamina', 'Strength', 'LongShots',\n",
    "       'Aggression', 'Interceptions', 'Positioning', 'Vision', 'Penalties',\n",
    "       'Composure', 'Marking', 'StandingTackle', 'SlidingTackle',\n",
    "       'Weight_int', 'Height_int', 'Preferred_Foot']\n",
    "\n",
    "\n",
    "y = ['Player_Position']\n",
    "x = cols\n",
    "x_train, x_test, y_train, y_test = train_test_split(df[x], df[y], test_size=0.2) #returns train-test splits of inputs"
   ]
  },
  {
   "cell_type": "markdown",
   "metadata": {
    "_uuid": "97b3a617a3f7ec31696a17075ea1e6e7e53aa68f",
    "colab_type": "text",
    "id": "bMv-GsPluNV1"
   },
   "source": [
    "***\n",
    "### Model comparing and selecting:"
   ]
  },
  {
   "cell_type": "code",
   "execution_count": 24,
   "metadata": {
    "_uuid": "176fe843c8029373661aa2629f36919b4991981c",
    "colab": {},
    "colab_type": "code",
    "id": "H5ynqm_bqUSo"
   },
   "outputs": [],
   "source": [
    "#Common Model Algorithms\n",
    "from sklearn import svm, tree, linear_model, neighbors, naive_bayes, ensemble, discriminant_analysis, gaussian_process\n",
    "from xgboost import XGBClassifier\n",
    "#Common Model Evaluations\n",
    "from sklearn import feature_selection\n",
    "from sklearn import model_selection\n",
    "from sklearn import metrics\n",
    "\n",
    "from sklearn.model_selection import train_test_split\n",
    "import warnings\n",
    "warnings.filterwarnings('ignore')"
   ]
  },
  {
   "cell_type": "markdown",
   "metadata": {
    "_uuid": "af89a5197d908ece3cca2ba3999b255072713972",
    "colab_type": "text",
    "id": "Ot2YTRSZAgYl"
   },
   "source": [
    "***\n",
    "### Machine Learning Algorithm (MLA) Selection and Initialization:"
   ]
  },
  {
   "cell_type": "markdown",
   "metadata": {
    "_uuid": "176a291093b39d63f22c16f80a37c983cff48327"
   },
   "source": [
    "Try different models to see which one provides the best accuracy."
   ]
  },
  {
   "cell_type": "code",
   "execution_count": 25,
   "metadata": {
    "_uuid": "6925be1ccb37df044f7b867cb1c0544e7ce03891",
    "colab": {
     "base_uri": "https://localhost:8080/",
     "height": 545
    },
    "colab_type": "code",
    "id": "-HYcB1sFpy9M",
    "outputId": "475c12f5-01dd-492f-b887-912712e3c43b"
   },
   "outputs": [
    {
     "data": {
      "text/html": [
       "<div>\n",
       "<style scoped>\n",
       "    .dataframe tbody tr th:only-of-type {\n",
       "        vertical-align: middle;\n",
       "    }\n",
       "\n",
       "    .dataframe tbody tr th {\n",
       "        vertical-align: top;\n",
       "    }\n",
       "\n",
       "    .dataframe thead th {\n",
       "        text-align: right;\n",
       "    }\n",
       "</style>\n",
       "<table border=\"1\" class=\"dataframe\">\n",
       "  <thead>\n",
       "    <tr style=\"text-align: right;\">\n",
       "      <th></th>\n",
       "      <th>MLA Name</th>\n",
       "      <th>MLA Train Accuracy Mean</th>\n",
       "      <th>MLA Test Accuracy Mean</th>\n",
       "      <th>MLA Test Accuracy 3*STD</th>\n",
       "      <th>MLA Time</th>\n",
       "    </tr>\n",
       "  </thead>\n",
       "  <tbody>\n",
       "    <tr>\n",
       "      <th>16</th>\n",
       "      <td>XGBClassifier</td>\n",
       "      <td>0.931468</td>\n",
       "      <td>0.872451</td>\n",
       "      <td>0.0260217</td>\n",
       "      <td>1.30078</td>\n",
       "    </tr>\n",
       "    <tr>\n",
       "      <th>4</th>\n",
       "      <td>GradientBoostingClassifier</td>\n",
       "      <td>0.959087</td>\n",
       "      <td>0.872004</td>\n",
       "      <td>0.0229094</td>\n",
       "      <td>2.33768</td>\n",
       "    </tr>\n",
       "    <tr>\n",
       "      <th>14</th>\n",
       "      <td>LinearDiscriminantAnalysis</td>\n",
       "      <td>0.868845</td>\n",
       "      <td>0.870304</td>\n",
       "      <td>0.0281434</td>\n",
       "      <td>0.0373172</td>\n",
       "    </tr>\n",
       "    <tr>\n",
       "      <th>6</th>\n",
       "      <td>LogisticRegressionCV</td>\n",
       "      <td>0.873679</td>\n",
       "      <td>0.869052</td>\n",
       "      <td>0.0364622</td>\n",
       "      <td>3.50243</td>\n",
       "    </tr>\n",
       "    <tr>\n",
       "      <th>8</th>\n",
       "      <td>KNeighborsClassifier</td>\n",
       "      <td>0.896464</td>\n",
       "      <td>0.852594</td>\n",
       "      <td>0.0211561</td>\n",
       "      <td>0.0188209</td>\n",
       "    </tr>\n",
       "    <tr>\n",
       "      <th>2</th>\n",
       "      <td>BaggingClassifier</td>\n",
       "      <td>0.990958</td>\n",
       "      <td>0.847406</td>\n",
       "      <td>0.0336909</td>\n",
       "      <td>0.437331</td>\n",
       "    </tr>\n",
       "    <tr>\n",
       "      <th>5</th>\n",
       "      <td>RandomForestClassifier</td>\n",
       "      <td>0.992435</td>\n",
       "      <td>0.841682</td>\n",
       "      <td>0.0325119</td>\n",
       "      <td>0.0946881</td>\n",
       "    </tr>\n",
       "    <tr>\n",
       "      <th>3</th>\n",
       "      <td>ExtraTreesClassifier</td>\n",
       "      <td>1</td>\n",
       "      <td>0.840161</td>\n",
       "      <td>0.0368911</td>\n",
       "      <td>0.0672352</td>\n",
       "    </tr>\n",
       "    <tr>\n",
       "      <th>15</th>\n",
       "      <td>QuadraticDiscriminantAnalysis</td>\n",
       "      <td>0.866831</td>\n",
       "      <td>0.836762</td>\n",
       "      <td>0.0238276</td>\n",
       "      <td>0.0151508</td>\n",
       "    </tr>\n",
       "    <tr>\n",
       "      <th>7</th>\n",
       "      <td>SGDClassifier</td>\n",
       "      <td>0.787332</td>\n",
       "      <td>0.787209</td>\n",
       "      <td>0.198396</td>\n",
       "      <td>0.0207881</td>\n",
       "    </tr>\n",
       "    <tr>\n",
       "      <th>12</th>\n",
       "      <td>DecisionTreeClassifier</td>\n",
       "      <td>1</td>\n",
       "      <td>0.78712</td>\n",
       "      <td>0.0422236</td>\n",
       "      <td>0.0756861</td>\n",
       "    </tr>\n",
       "    <tr>\n",
       "      <th>11</th>\n",
       "      <td>LinearSVC</td>\n",
       "      <td>0.77923</td>\n",
       "      <td>0.775939</td>\n",
       "      <td>0.169805</td>\n",
       "      <td>1.13271</td>\n",
       "    </tr>\n",
       "    <tr>\n",
       "      <th>13</th>\n",
       "      <td>ExtraTreeClassifier</td>\n",
       "      <td>1</td>\n",
       "      <td>0.740429</td>\n",
       "      <td>0.0423903</td>\n",
       "      <td>0.0137191</td>\n",
       "    </tr>\n",
       "    <tr>\n",
       "      <th>1</th>\n",
       "      <td>AdaBoostClassifier</td>\n",
       "      <td>0.708102</td>\n",
       "      <td>0.693649</td>\n",
       "      <td>0.0752897</td>\n",
       "      <td>0.617329</td>\n",
       "    </tr>\n",
       "    <tr>\n",
       "      <th>9</th>\n",
       "      <td>SVC</td>\n",
       "      <td>1</td>\n",
       "      <td>0.449911</td>\n",
       "      <td>0.0426478</td>\n",
       "      <td>5.51369</td>\n",
       "    </tr>\n",
       "    <tr>\n",
       "      <th>10</th>\n",
       "      <td>NuSVC</td>\n",
       "      <td>1</td>\n",
       "      <td>0.449911</td>\n",
       "      <td>0.0426478</td>\n",
       "      <td>5.73493</td>\n",
       "    </tr>\n",
       "  </tbody>\n",
       "</table>\n",
       "</div>"
      ],
      "text/plain": [
       "                         MLA Name MLA Train Accuracy Mean  \\\n",
       "16                  XGBClassifier                0.931468   \n",
       "4      GradientBoostingClassifier                0.959087   \n",
       "14     LinearDiscriminantAnalysis                0.868845   \n",
       "6            LogisticRegressionCV                0.873679   \n",
       "8            KNeighborsClassifier                0.896464   \n",
       "2               BaggingClassifier                0.990958   \n",
       "5          RandomForestClassifier                0.992435   \n",
       "3            ExtraTreesClassifier                       1   \n",
       "15  QuadraticDiscriminantAnalysis                0.866831   \n",
       "7                   SGDClassifier                0.787332   \n",
       "12         DecisionTreeClassifier                       1   \n",
       "11                      LinearSVC                 0.77923   \n",
       "13            ExtraTreeClassifier                       1   \n",
       "1              AdaBoostClassifier                0.708102   \n",
       "9                             SVC                       1   \n",
       "10                          NuSVC                       1   \n",
       "\n",
       "   MLA Test Accuracy Mean MLA Test Accuracy 3*STD   MLA Time  \n",
       "16               0.872451               0.0260217    1.30078  \n",
       "4                0.872004               0.0229094    2.33768  \n",
       "14               0.870304               0.0281434  0.0373172  \n",
       "6                0.869052               0.0364622    3.50243  \n",
       "8                0.852594               0.0211561  0.0188209  \n",
       "2                0.847406               0.0336909   0.437331  \n",
       "5                0.841682               0.0325119  0.0946881  \n",
       "3                0.840161               0.0368911  0.0672352  \n",
       "15               0.836762               0.0238276  0.0151508  \n",
       "7                0.787209                0.198396  0.0207881  \n",
       "12                0.78712               0.0422236  0.0756861  \n",
       "11               0.775939                0.169805    1.13271  \n",
       "13               0.740429               0.0423903  0.0137191  \n",
       "1                0.693649               0.0752897   0.617329  \n",
       "9                0.449911               0.0426478    5.51369  \n",
       "10               0.449911               0.0426478    5.73493  "
      ]
     },
     "metadata": {},
     "output_type": "display_data"
    }
   ],
   "source": [
    "MLA = [\n",
    "    #Ensemble Methods\n",
    "    ensemble.AdaBoostClassifier(),\n",
    "    ensemble.BaggingClassifier(),\n",
    "    ensemble.ExtraTreesClassifier(),\n",
    "    ensemble.GradientBoostingClassifier(),\n",
    "    ensemble.RandomForestClassifier(),\n",
    "\n",
    "    #GLM\n",
    "    linear_model.LogisticRegressionCV(),\n",
    "    linear_model.SGDClassifier(),\n",
    "    \n",
    "    #Nearest Neighbor\n",
    "    neighbors.KNeighborsClassifier(),\n",
    "    \n",
    "    #SVM\n",
    "    svm.SVC(probability=True),\n",
    "    svm.NuSVC(probability=True),\n",
    "    svm.LinearSVC(),\n",
    "    \n",
    "    #Trees    \n",
    "    tree.DecisionTreeClassifier(),\n",
    "    tree.ExtraTreeClassifier(),\n",
    "    \n",
    "    #Discriminant Analysis\n",
    "    discriminant_analysis.LinearDiscriminantAnalysis(),\n",
    "    discriminant_analysis.QuadraticDiscriminantAnalysis(),\n",
    "\n",
    "    #xgboost: \n",
    "    XGBClassifier()    \n",
    "    ]\n",
    "\n",
    "#split dataset in cross-validation with this splitter class\n",
    "cv_split = model_selection.ShuffleSplit(n_splits = 10, test_size = .3, train_size = .6, random_state = 0 ) # run model 10x with 60/30 split intentionally leaving out 10%\n",
    "\n",
    "#create table to compare MLA metrics\n",
    "MLA_columns = ['MLA Name','MLA Train Accuracy Mean', 'MLA Test Accuracy Mean', 'MLA Test Accuracy 3*STD' ,'MLA Time']\n",
    "MLA_compare = pd.DataFrame(columns = MLA_columns)\n",
    "\n",
    "#create table to compare MLA predictions\n",
    "MLA_predict = y_train[y]\n",
    "\n",
    "#index through MLA and save performance to table\n",
    "row_index = 1\n",
    "for alg in MLA:\n",
    "\n",
    "    #set name and parameters\n",
    "    MLA_name = alg.__class__.__name__\n",
    "    MLA_compare.loc[row_index, 'MLA Name'] = MLA_name\n",
    "    \n",
    "    #score model with cross validation\n",
    "    cv_results = model_selection.cross_validate(alg,x_train[x],  y_train[y], cv  = cv_split)\n",
    "\n",
    "    MLA_compare.loc[row_index, 'MLA Time'] = cv_results['fit_time'].mean()\n",
    "    MLA_compare.loc[row_index, 'MLA Train Accuracy Mean'] = cv_results['train_score'].mean()\n",
    "    MLA_compare.loc[row_index, 'MLA Test Accuracy Mean'] = cv_results['test_score'].mean()   \n",
    "    #if this is a non-bias random sample, then +/-3 standard deviations (std) from the mean, should statistically capture 99.7% of the subsets\n",
    "    MLA_compare.loc[row_index, 'MLA Test Accuracy 3*STD'] = cv_results['test_score'].std()*3   #let's know the worst that can happen!\n",
    "    \n",
    "\n",
    "    #save MLA predictions \n",
    "    alg.fit(x_train[x],  y_train[y])\n",
    "    MLA_predict[MLA_name] = alg.predict(x_train[x])\n",
    "    \n",
    "    row_index+=1\n",
    "\n",
    "#print and sort table\n",
    "MLA_compare.sort_values(by = ['MLA Test Accuracy Mean'], ascending = False, inplace = True)\n",
    "display(MLA_compare)"
   ]
  },
  {
   "cell_type": "markdown",
   "metadata": {
    "_uuid": "7c48aa80a3dba1637e945e707b1fdb187eb1408b",
    "colab_type": "text",
    "id": "f6AZ0JwWu-NM"
   },
   "source": [
    "***\n",
    "### Grid search for XGBClassifier:"
   ]
  },
  {
   "cell_type": "code",
   "execution_count": 26,
   "metadata": {
    "_uuid": "0daa97a5726aa7fdcc664c0a15cf19c1015ca463",
    "colab": {},
    "colab_type": "code",
    "id": "svMN7OhwqN15"
   },
   "outputs": [],
   "source": [
    "from sklearn.model_selection import RandomizedSearchCV, GridSearchCV\n",
    "from sklearn.metrics import roc_auc_score\n",
    "from sklearn.model_selection import StratifiedKFold\n",
    "from xgboost import XGBClassifier\n",
    "from datetime import datetime"
   ]
  },
  {
   "cell_type": "markdown",
   "metadata": {
    "_uuid": "d1c5a61f1bda669eb4e8a314acbcdb054be50163",
    "colab_type": "text",
    "id": "_j3mXm4cDmxO"
   },
   "source": [
    "***\n",
    "### Set timer to record the time:"
   ]
  },
  {
   "cell_type": "code",
   "execution_count": 27,
   "metadata": {
    "_uuid": "d4763d2a006e116dfee8bbc282cc2438c59e0904",
    "colab": {},
    "colab_type": "code",
    "id": "RF02UM4vzPfA"
   },
   "outputs": [],
   "source": [
    "def timer(start_time=None):\n",
    "    if not start_time:\n",
    "        start_time = datetime.now()\n",
    "        return start_time\n",
    "    elif start_time:\n",
    "        thour, temp_sec = divmod((datetime.now() - start_time).total_seconds(), 3600)\n",
    "        tmin, tsec = divmod(temp_sec, 60)\n",
    "        print('\\n Time taken: %i hours %i minutes and %s seconds.' % (thour, tmin, round(tsec, 2)))"
   ]
  },
  {
   "cell_type": "markdown",
   "metadata": {
    "_uuid": "fb82b759d42b5368a76175e0c224307241922f93",
    "colab_type": "text",
    "id": "YI74VeCgDrip"
   },
   "source": [
    "***\n",
    "### Set a range of values for different parameters:"
   ]
  },
  {
   "cell_type": "code",
   "execution_count": 28,
   "metadata": {
    "_uuid": "a9b3127138648c55a4558473a8a726b07cd95b30",
    "colab": {},
    "colab_type": "code",
    "id": "wOpAE2t8zpHa"
   },
   "outputs": [],
   "source": [
    "# A parameter grid for XGBoost\n",
    "params = {\n",
    "        'min_child_weight': [1, 5, 10],\n",
    "        'gamma': [0.5, 1, 1.5, 2, 5],\n",
    "        'subsample': [0.6, 0.8, 1.0],\n",
    "        'colsample_bytree': [0.6, 0.8, 1.0],\n",
    "        'max_depth': [3, 4, 5]\n",
    "        }"
   ]
  },
  {
   "cell_type": "code",
   "execution_count": 29,
   "metadata": {
    "_uuid": "bd1d4b2d27035867eb68ccdacfd6a07c2f5c6e2e",
    "colab": {},
    "colab_type": "code",
    "id": "eIToJiK5z1nE"
   },
   "outputs": [],
   "source": [
    "xgb = XGBClassifier(learning_rate=0.02, n_estimators=600, objective='binary:logistic',\n",
    "                    silent=True, nthread=1)"
   ]
  },
  {
   "cell_type": "markdown",
   "metadata": {
    "_uuid": "05967bb621660d721955bd6a60a7f7e0867620e6",
    "colab_type": "text",
    "id": "-pVKB3tlD_QQ"
   },
   "source": [
    "***\n",
    "### Test different combinations:"
   ]
  },
  {
   "cell_type": "code",
   "execution_count": 30,
   "metadata": {
    "_uuid": "c53d3f76fe4098feca625fef86e850844753ca59",
    "colab": {
     "base_uri": "https://localhost:8080/",
     "height": 102
    },
    "colab_type": "code",
    "id": "TmK-XaJ8z7sy",
    "outputId": "6022dd90-2f5e-434a-ef2b-9669991495cf"
   },
   "outputs": [
    {
     "name": "stdout",
     "output_type": "stream",
     "text": [
      "Fitting 3 folds for each of 5 candidates, totalling 15 fits\n"
     ]
    },
    {
     "name": "stderr",
     "output_type": "stream",
     "text": [
      "[Parallel(n_jobs=4)]: Using backend LokyBackend with 4 concurrent workers.\n",
      "[Parallel(n_jobs=4)]: Done  15 out of  15 | elapsed:  1.3min finished\n"
     ]
    },
    {
     "name": "stdout",
     "output_type": "stream",
     "text": [
      "\n",
      " Time taken: 0 hours 1 minutes and 40.43 seconds.\n"
     ]
    }
   ],
   "source": [
    "folds = 3\n",
    "param_comb = 5\n",
    "\n",
    "skf = StratifiedKFold(n_splits=folds, shuffle = True, random_state = 1001)\n",
    "\n",
    "random_search = RandomizedSearchCV(xgb, param_distributions=params, n_iter=param_comb, n_jobs=4, cv=skf.split(x_train,y_train), verbose=3, random_state=1001 )\n",
    "\n",
    "start_time = timer(None) # timing starts from this point for \"start_time\" variable\n",
    "random_search.fit(x_train,y_train)\n",
    "timer(start_time) # timing ends here for \"start_time\" variable"
   ]
  },
  {
   "cell_type": "markdown",
   "metadata": {
    "_uuid": "d20875115e8b7e89b1f042a8132ede99a8ae0379",
    "colab_type": "text",
    "id": "SIVxZiWnEGQI"
   },
   "source": [
    "***\n",
    "### Print out the best combination of parameters:"
   ]
  },
  {
   "cell_type": "code",
   "execution_count": 31,
   "metadata": {
    "_uuid": "3816c3889309f127fb3a3d615c976619467e2eca",
    "colab": {
     "base_uri": "https://localhost:8080/",
     "height": 581
    },
    "colab_type": "code",
    "id": "qf_FScEI0ZvF",
    "outputId": "0d6e739f-5b24-421d-db29-b89593e4e97c"
   },
   "outputs": [
    {
     "name": "stdout",
     "output_type": "stream",
     "text": [
      "\n",
      " All results:\n",
      "{'mean_fit_time': array([ 8.69713394, 18.24557956, 15.83402077, 10.79135203, 14.45820483]), 'std_fit_time': array([0.03796129, 0.08805444, 0.1425662 , 0.21273565, 0.05856918]), 'mean_score_time': array([0.09980281, 0.23568567, 0.23226293, 0.10881305, 0.21884926]), 'std_score_time': array([0.00628503, 0.00113405, 0.02230549, 0.00813325, 0.00183926]), 'param_subsample': masked_array(data=[1.0, 0.6, 0.8, 1.0, 0.8],\n",
      "             mask=[False, False, False, False, False],\n",
      "       fill_value='?',\n",
      "            dtype=object), 'param_min_child_weight': masked_array(data=[5, 1, 5, 5, 1],\n",
      "             mask=[False, False, False, False, False],\n",
      "       fill_value='?',\n",
      "            dtype=object), 'param_max_depth': masked_array(data=[3, 5, 5, 5, 4],\n",
      "             mask=[False, False, False, False, False],\n",
      "       fill_value='?',\n",
      "            dtype=object), 'param_gamma': masked_array(data=[5, 1.5, 1, 5, 1],\n",
      "             mask=[False, False, False, False, False],\n",
      "       fill_value='?',\n",
      "            dtype=object), 'param_colsample_bytree': masked_array(data=[1.0, 0.8, 0.8, 0.6, 1.0],\n",
      "             mask=[False, False, False, False, False],\n",
      "       fill_value='?',\n",
      "            dtype=object), 'params': [{'subsample': 1.0, 'min_child_weight': 5, 'max_depth': 3, 'gamma': 5, 'colsample_bytree': 1.0}, {'subsample': 0.6, 'min_child_weight': 1, 'max_depth': 5, 'gamma': 1.5, 'colsample_bytree': 0.8}, {'subsample': 0.8, 'min_child_weight': 5, 'max_depth': 5, 'gamma': 1, 'colsample_bytree': 0.8}, {'subsample': 1.0, 'min_child_weight': 5, 'max_depth': 5, 'gamma': 5, 'colsample_bytree': 0.6}, {'subsample': 0.8, 'min_child_weight': 1, 'max_depth': 4, 'gamma': 1, 'colsample_bytree': 1.0}], 'split0_test_score': array([0.86392915, 0.87761675, 0.87922705, 0.87198068, 0.87681159]), 'split1_test_score': array([0.86151369, 0.87359098, 0.87359098, 0.87359098, 0.87520129]), 'split2_test_score': array([0.86048387, 0.87096774, 0.86854839, 0.85806452, 0.86854839]), 'mean_test_score': array([0.86197637, 0.87406015, 0.87379162, 0.867884  , 0.87352309]), 'std_test_score': array([0.00144392, 0.0027343 , 0.00436127, 0.00696892, 0.0035758 ]), 'rank_test_score': array([5, 1, 2, 4, 3]), 'split0_train_score': array([0.89282836, 0.97300564, 0.98106366, 0.90249799, 0.97461724]), 'split1_train_score': array([0.89282836, 0.97219984, 0.97985496, 0.9093473 , 0.97582595]), 'split2_train_score': array([0.90217391, 0.97302738, 0.98148148, 0.91384863, 0.97584541]), 'mean_train_score': array([0.89594355, 0.97274428, 0.98080003, 0.90856464, 0.97542953]), 'std_train_score': array([0.00440553, 0.00038508, 0.0006897 , 0.00466681, 0.00057443])}\n",
      "\n",
      " Best estimator:\n",
      "XGBClassifier(base_score=0.5, booster='gbtree', colsample_bylevel=1,\n",
      "       colsample_bytree=0.8, gamma=1.5, learning_rate=0.02,\n",
      "       max_delta_step=0, max_depth=5, min_child_weight=1, missing=None,\n",
      "       n_estimators=600, n_jobs=1, nthread=1, objective='multi:softprob',\n",
      "       random_state=0, reg_alpha=0, reg_lambda=1, scale_pos_weight=1,\n",
      "       seed=None, silent=True, subsample=0.6)\n",
      "\n",
      " Best normalized gini score for 3-fold search with 5 parameter combinations:\n",
      "0.7481203007518797\n",
      "\n",
      " Best hyperparameters:\n",
      "{'subsample': 0.6, 'min_child_weight': 1, 'max_depth': 5, 'gamma': 1.5, 'colsample_bytree': 0.8}\n"
     ]
    }
   ],
   "source": [
    "print('\\n All results:')\n",
    "print(random_search.cv_results_)\n",
    "print('\\n Best estimator:')\n",
    "print(random_search.best_estimator_)\n",
    "print('\\n Best normalized gini score for %d-fold search with %d parameter combinations:' % (folds, param_comb))\n",
    "print(random_search.best_score_ * 2 - 1)\n",
    "print('\\n Best hyperparameters:')\n",
    "print(random_search.best_params_)\n",
    "results = pd.DataFrame(random_search.cv_results_)"
   ]
  },
  {
   "cell_type": "markdown",
   "metadata": {
    "_uuid": "070fd0901e74a218407cbdab6e01759d29bb609d",
    "colab_type": "text",
    "id": "97dUuPGsvEEs"
   },
   "source": [
    "***\n",
    "## Step 5: Model evaluation"
   ]
  },
  {
   "cell_type": "markdown",
   "metadata": {
    "_uuid": "9cd2a0cc0fb0535488d0303f024ea66257a14e9e",
    "colab_type": "text",
    "id": "pytXPl73_yg2"
   },
   "source": [
    "***\n",
    "### Accuracy with new parameters:"
   ]
  },
  {
   "cell_type": "code",
   "execution_count": 32,
   "metadata": {
    "_uuid": "1c4ba48ed5e48f8f7a5e4233314115e82e511e60",
    "colab": {
     "base_uri": "https://localhost:8080/",
     "height": 34
    },
    "colab_type": "code",
    "id": "P8VqQZcK7t1r",
    "outputId": "96336ed3-1a80-4191-cc20-7daeb71d23ed"
   },
   "outputs": [
    {
     "name": "stdout",
     "output_type": "stream",
     "text": [
      "Accuracy of XGBClassifier on test set: 0.97\n"
     ]
    }
   ],
   "source": [
    "xgb = XGBClassifier(base_score=0.5, booster='gbtree', colsample_bylevel=1,\n",
    "       colsample_bytree=0.8, gamma=1.5, learning_rate=0.02,\n",
    "       max_delta_step=0, max_depth=5, min_child_weight=1, missing=None,\n",
    "       n_estimators=600, n_jobs=1, nthread=1, objective='multi:softprob',\n",
    "       random_state=0, reg_alpha=0, reg_lambda=1, scale_pos_weight=1,\n",
    "       seed=None, silent=True, subsample=0.6)\n",
    "\n",
    "xgb.fit(df[x],df[y])\n",
    "\n",
    "y_pred = xgb.predict(x_test)\n",
    "\n",
    "print('Accuracy of XGBClassifier on test set: {:.2f}'.format(xgb.score(x_test, y_test)))"
   ]
  },
  {
   "cell_type": "markdown",
   "metadata": {},
   "source": [
    "***\n",
    "### Predicting result for a test case:"
   ]
  },
  {
   "cell_type": "code",
   "execution_count": 33,
   "metadata": {
    "scrolled": true
   },
   "outputs": [
    {
     "name": "stdout",
     "output_type": "stream",
     "text": [
      "['Midfielder']\n"
     ]
    }
   ],
   "source": [
    "#Testing the model\n",
    "\n",
    "'''\n",
    "Column Headers:\n",
    "['Age', 'Skill Moves', 'Crossing', 'Finishing', 'HeadingAccuracy', 'ShortPassing', 'Volleys',\n",
    "       'Dribbling', 'Curve', 'FKAccuracy', 'LongPassing', 'BallControl',\n",
    "       'Acceleration', 'SprintSpeed', 'Agility', 'Reactions', 'Balance',\n",
    "       'ShotPower', 'Jumping', 'Stamina', 'Strength', 'LongShots',\n",
    "       'Aggression', 'Interceptions', 'Positioning', 'Vision', 'Penalties',\n",
    "       'Composure', 'Marking', 'StandingTackle', 'SlidingTackle',\n",
    "       'Weight_int', 'Height_int', 'Preferred_Foot']\n",
    "'''\n",
    "test_case1 = [19, 5.0, 77.0, 88.0, 77.0, 82.0, 78.0, 90.0, 77.0, 63.0, 73.0, 91.0, 96.0, 96.0, 92.0, 87.0, 83.0, 79.0, 75.0, 83.0, 71.0, 78.0, 62.0, 38.0, 88.0, 82.0, 70.0, 86.0, 34.0, 34.0, 32.0, 161, 177.0, 0.0]\n",
    "dataframe_test_case1 = pd.DataFrame(test_case1).T\n",
    "dataframe_test_case1.columns = ['Age', 'Skill Moves', 'Crossing', 'Finishing', 'HeadingAccuracy', 'ShortPassing', 'Volleys',\n",
    "       'Dribbling', 'Curve', 'FKAccuracy', 'LongPassing', 'BallControl',\n",
    "       'Acceleration', 'SprintSpeed', 'Agility', 'Reactions', 'Balance',\n",
    "       'ShotPower', 'Jumping', 'Stamina', 'Strength', 'LongShots',\n",
    "       'Aggression', 'Interceptions', 'Positioning', 'Vision', 'Penalties',\n",
    "       'Composure', 'Marking', 'StandingTackle', 'SlidingTackle',\n",
    "       'Weight_int', 'Height_int', 'Preferred_Foot']\n",
    "\n",
    "position_test_case1 = xgb.predict(dataframe_test_case1)\n",
    "print(position_test_case1)"
   ]
  }
 ],
 "metadata": {
  "colab": {
   "collapsed_sections": [],
   "name": "Presentation_Weizhen_Zhong.ipynb",
   "provenance": [],
   "version": "0.3.2"
  },
  "kernelspec": {
   "display_name": "Python 3",
   "language": "python",
   "name": "python3"
  },
  "language_info": {
   "codemirror_mode": {
    "name": "ipython",
    "version": 3
   },
   "file_extension": ".py",
   "mimetype": "text/x-python",
   "name": "python",
   "nbconvert_exporter": "python",
   "pygments_lexer": "ipython3",
   "version": "3.6.8"
  }
 },
 "nbformat": 4,
 "nbformat_minor": 1
}
